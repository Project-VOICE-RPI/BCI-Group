{
 "cells": [
  {
   "metadata": {},
   "cell_type": "markdown",
   "source": "https://www.kaggle.com/code/pochenliu/linear-classifiers-xdawn-100-letter-accuracy",
   "id": "4916a8981d95efcd"
  },
  {
   "cell_type": "code",
   "id": "initial_id",
   "metadata": {
    "collapsed": true,
    "ExecuteTime": {
     "end_time": "2024-11-15T22:06:30.450049Z",
     "start_time": "2024-11-15T22:06:12.369133Z"
    }
   },
   "source": [
    "!pip install mat4py\n",
    "!pip install kagglehub"
   ],
   "outputs": [
    {
     "name": "stdout",
     "output_type": "stream",
     "text": [
      "Requirement already satisfied: mat4py in /home/dante/miniconda3/envs/mne/lib/python3.12/site-packages (0.6.0)\r\n",
      "Collecting kagglehub\r\n",
      "  Downloading kagglehub-0.3.4-py3-none-any.whl.metadata (22 kB)\r\n",
      "Requirement already satisfied: packaging in /home/dante/miniconda3/envs/mne/lib/python3.12/site-packages (from kagglehub) (24.1)\r\n",
      "Requirement already satisfied: requests in /home/dante/miniconda3/envs/mne/lib/python3.12/site-packages (from kagglehub) (2.32.3)\r\n",
      "Requirement already satisfied: tqdm in /home/dante/miniconda3/envs/mne/lib/python3.12/site-packages (from kagglehub) (4.66.5)\r\n",
      "Requirement already satisfied: charset-normalizer<4,>=2 in /home/dante/miniconda3/envs/mne/lib/python3.12/site-packages (from requests->kagglehub) (3.3.2)\r\n",
      "Requirement already satisfied: idna<4,>=2.5 in /home/dante/miniconda3/envs/mne/lib/python3.12/site-packages (from requests->kagglehub) (3.10)\r\n",
      "Requirement already satisfied: urllib3<3,>=1.21.1 in /home/dante/miniconda3/envs/mne/lib/python3.12/site-packages (from requests->kagglehub) (2.2.3)\r\n",
      "Requirement already satisfied: certifi>=2017.4.17 in /home/dante/miniconda3/envs/mne/lib/python3.12/site-packages (from requests->kagglehub) (2024.8.30)\r\n",
      "Downloading kagglehub-0.3.4-py3-none-any.whl (43 kB)\r\n",
      "Installing collected packages: kagglehub\r\n",
      "Successfully installed kagglehub-0.3.4\r\n"
     ]
    }
   ],
   "execution_count": 9
  },
  {
   "metadata": {
    "ExecuteTime": {
     "end_time": "2024-11-15T22:07:57.991302Z",
     "start_time": "2024-11-15T22:07:07.603857Z"
    }
   },
   "cell_type": "code",
   "source": [
    "import kagglehub\n",
    "path = kagglehub.dataset_download(\"rramele/p300samplingdataset\")\n",
    "print(\"Path to dataset files: \", path)"
   ],
   "id": "aa7d16988f23f71f",
   "outputs": [
    {
     "name": "stdout",
     "output_type": "stream",
     "text": [
      "Downloading from https://www.kaggle.com/api/v1/datasets/download/rramele/p300samplingdataset?dataset_version_number=1...\n"
     ]
    },
    {
     "name": "stderr",
     "output_type": "stream",
     "text": [
      "100%|██████████| 308M/308M [00:43<00:00, 7.43MB/s] "
     ]
    },
    {
     "name": "stdout",
     "output_type": "stream",
     "text": [
      "Extracting files...\n"
     ]
    },
    {
     "name": "stderr",
     "output_type": "stream",
     "text": [
      "\n"
     ]
    },
    {
     "name": "stdout",
     "output_type": "stream",
     "text": [
      "Path to dataset files:  /home/dante/.cache/kagglehub/datasets/rramele/p300samplingdataset/versions/1\n"
     ]
    }
   ],
   "execution_count": 11
  },
  {
   "metadata": {
    "ExecuteTime": {
     "end_time": "2024-11-15T22:04:37.805169Z",
     "start_time": "2024-11-15T22:04:37.797929Z"
    }
   },
   "cell_type": "code",
   "source": [
    "import sklearn as sk\n",
    "import pandas as pd\n",
    "import numpy as np\n",
    "import matplotlib.pyplot as plt\n",
    "import scipy.io as sio\n",
    "from mat4py import loadmat\n",
    "import time\n",
    "import glob\n",
    "from sklearn.model_selection import train_test_split\n",
    "from scipy.signal import welch, freqz, butter, filtfilt\n",
    "from sklearn.model_selection import cross_val_predict, TimeSeriesSplit\n",
    "import seaborn as sns\n",
    "\n",
    "import warnings\n",
    "warnings.filterwarnings('ignore')\n",
    "\n",
    "from mne.decoding import Vectorizer\n",
    "from sklearn.neighbors import KNeighborsClassifier\n",
    "from sklearn.discriminant_analysis import LinearDiscriminantAnalysis as LDA\n",
    "from sklearn.linear_model import LogisticRegression\n",
    "from sklearn import metrics\n",
    "from sklearn.metrics import accuracy_score, classification_report\n",
    "from sklearn.model_selection import cross_val_score, StratifiedKFold, KFold\n",
    "from sklearn.neural_network import MLPClassifier\n",
    "from sklearn.svm import SVC\n",
    "from sklearn.preprocessing import StandardScaler\n",
    "from sklearn.ensemble import GradientBoostingClassifier, RandomForestClassifier, ExtraTreesClassifier\n",
    "from sklearn.naive_bayes import  GaussianNB, MultinomialNB, BernoulliNB, CategoricalNB, ComplementNB\n",
    "\n",
    "from mne import (io, compute_raw_covariance, read_events, pick_types, Epochs)\n",
    "from mne.preprocessing import Xdawn\n",
    "from mne.viz import plot_epochs_image\n",
    "import mne\n",
    "mne.set_log_level('WARNING')\n",
    "\n",
    "from sklearn.pipeline import make_pipeline\n",
    "\n",
    "import os"
   ],
   "id": "62ae1e902dd98f22",
   "outputs": [],
   "execution_count": 7
  },
  {
   "metadata": {
    "ExecuteTime": {
     "end_time": "2024-11-15T22:16:25.494120Z",
     "start_time": "2024-11-15T22:16:25.490675Z"
    }
   },
   "cell_type": "code",
   "source": [
    "folder = '../p300samplingdataset/*.mat'\n",
    "files = glob.glob(folder)\n",
    "print(files)\n",
    "print(len(files))\n",
    "\n",
    "channels = ['Fz', 'Cz', 'P3', 'Pz', 'P4', 'P07', 'P08', 'Oz']"
   ],
   "id": "88488901a8584362",
   "outputs": [
    {
     "name": "stdout",
     "output_type": "stream",
     "text": [
      "['../p300samplingdataset/P300S02.mat', '../p300samplingdataset/P300S04.mat', '../p300samplingdataset/P300S06.mat', '../p300samplingdataset/P300S08.mat', '../p300samplingdataset/P300S07.mat', '../p300samplingdataset/P300S01.mat', '../p300samplingdataset/P300S05.mat', '../p300samplingdataset/P300S03.mat']\n",
      "8\n"
     ]
    }
   ],
   "execution_count": 14
  },
  {
   "metadata": {},
   "cell_type": "code",
   "outputs": [],
   "execution_count": null,
   "source": [
    "def load_data(file):\n",
    "    raw_data"
   ],
   "id": "1d4c820d3708f857"
  }
 ],
 "metadata": {
  "kernelspec": {
   "display_name": "Python 3",
   "language": "python",
   "name": "python3"
  },
  "language_info": {
   "codemirror_mode": {
    "name": "ipython",
    "version": 2
   },
   "file_extension": ".py",
   "mimetype": "text/x-python",
   "name": "python",
   "nbconvert_exporter": "python",
   "pygments_lexer": "ipython2",
   "version": "2.7.6"
  }
 },
 "nbformat": 4,
 "nbformat_minor": 5
}
