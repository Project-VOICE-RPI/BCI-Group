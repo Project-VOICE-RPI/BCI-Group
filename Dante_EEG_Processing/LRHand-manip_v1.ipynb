{
 "cells": [
  {
   "metadata": {},
   "cell_type": "markdown",
   "source": "Add needed packages and load the data from SubjectJ LRHand 3 State dataset",
   "id": "1c17f7c438bccbfc"
  },
  {
   "metadata": {
    "collapsed": true,
    "ExecuteTime": {
     "end_time": "2024-11-15T21:19:36.298968Z",
     "start_time": "2024-11-15T21:19:35.261438Z"
    }
   },
   "cell_type": "code",
   "source": [
    "import mne\n",
    "import numpy as np\n",
    "import matplotlib.pyplot as plt\n",
    "import scipy.io as sio\n",
    "\n",
    "filename = 'VISUAL_P300_Speller_S1.mat'\n",
    "\n",
    "# Load the data\n",
    "mat_contents = sio.loadmat(filename)\n",
    "\n",
    "print(mat_contents.keys())\n",
    "print(mat_contents['s1'].dtype)"
   ],
   "id": "initial_id",
   "outputs": [
    {
     "name": "stdout",
     "output_type": "stream",
     "text": [
      "dict_keys(['__header__', '__version__', '__globals__', 's1'])\n",
      "[('train', 'O'), ('test', 'O')]\n"
     ]
    }
   ],
   "execution_count": 1
  },
  {
   "metadata": {
    "ExecuteTime": {
     "end_time": "2024-11-15T21:19:37.185548Z",
     "start_time": "2024-11-15T21:19:37.180175Z"
    }
   },
   "cell_type": "code",
   "source": [
    "arr = dict()\n",
    "if isinstance(mat_contents['s1'], np.ndarray) and mat_contents['s1'].dtype.names:\n",
    "    for name in mat_contents['s1'].dtype.names:\n",
    "        arr[name] = mat_contents['s1'][name]"
   ],
   "id": "4528e9865a2783dd",
   "outputs": [],
   "execution_count": 2
  },
  {
   "metadata": {
    "ExecuteTime": {
     "end_time": "2024-11-15T21:23:53.043508Z",
     "start_time": "2024-11-15T21:23:53.039630Z"
    }
   },
   "cell_type": "code",
   "source": "print(arr['train'][0][0])",
   "id": "f51dc91698506b2a",
   "outputs": [
    {
     "name": "stdout",
     "output_type": "stream",
     "text": [
      "[0. 0. 0. ... 0. 0. 0.]\n"
     ]
    }
   ],
   "execution_count": 19
  },
  {
   "metadata": {
    "ExecuteTime": {
     "end_time": "2024-11-15T21:19:42.211685Z",
     "start_time": "2024-11-15T21:19:41.545467Z"
    }
   },
   "cell_type": "code",
   "source": [
    "mat_data = arr['train'][0][0]\n",
    "sfreq = 200\n",
    "ch_names =  [f'EEG {i+1}' for i in range(mat_data.shape[0])]\n",
    "ch_types = ['eeg'] * mat_data.shape[0]\n",
    "info = mne.create_info(ch_names=ch_names, sfreq=sfreq, ch_types=ch_types)\n",
    "raw = mne.io.RawArray(mat_data, info)"
   ],
   "id": "77a770c5bf5f88e8",
   "outputs": [
    {
     "name": "stdout",
     "output_type": "stream",
     "text": [
      "Creating RawArray with float64 data, n_channels=11, n_times=65282\n",
      "    Range : 0 ... 65281 =      0.000 ...   326.405 secs\n",
      "Ready.\n"
     ]
    }
   ],
   "execution_count": 4
  },
  {
   "metadata": {
    "ExecuteTime": {
     "end_time": "2024-11-15T21:19:45.311573Z",
     "start_time": "2024-11-15T21:19:43.975308Z"
    }
   },
   "cell_type": "code",
   "source": "raw.plot()",
   "id": "5a9224c6ebbab381",
   "outputs": [
    {
     "name": "stdout",
     "output_type": "stream",
     "text": [
      "Using qt as 2D backend.\n"
     ]
    },
    {
     "data": {
      "text/plain": [
       "<mne_qt_browser._pg_figure.MNEQtBrowser at 0x7720a5c8c5f0>"
      ]
     },
     "execution_count": 5,
     "metadata": {},
     "output_type": "execute_result"
    }
   ],
   "execution_count": 5
  }
 ],
 "metadata": {
  "kernelspec": {
   "display_name": "Python 3",
   "language": "python",
   "name": "python3"
  },
  "language_info": {
   "codemirror_mode": {
    "name": "ipython",
    "version": 2
   },
   "file_extension": ".py",
   "mimetype": "text/x-python",
   "name": "python",
   "nbconvert_exporter": "python",
   "pygments_lexer": "ipython2",
   "version": "2.7.6"
  }
 },
 "nbformat": 4,
 "nbformat_minor": 5
}
