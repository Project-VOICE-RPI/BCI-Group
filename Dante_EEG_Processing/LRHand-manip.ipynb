{
 "cells": [
  {
   "metadata": {},
   "cell_type": "markdown",
   "source": "Add needed packages and load the data from SubjectJ LRHand 3 State dataset",
   "id": "1c17f7c438bccbfc"
  },
  {
   "cell_type": "code",
   "id": "initial_id",
   "metadata": {
    "collapsed": true,
    "ExecuteTime": {
     "end_time": "2024-11-08T22:21:07.395349Z",
     "start_time": "2024-11-08T22:21:06.967105Z"
    }
   },
   "source": [
    "import mne\n",
    "import numpy as np\n",
    "import matplotlib.pyplot as plt\n",
    "import scipy.io as sio\n",
    "\n",
    "filename = 'CLA-SubjectJ-170508-3St-LRHand-Inter.mat'\n",
    "\n",
    "# Load the data\n",
    "mat_contents = sio.loadmat(filename)\n",
    "\n",
    "print(mat_contents.keys())\n",
    "print(mat_contents['o'][0][0])"
   ],
   "outputs": [
    {
     "name": "stdout",
     "output_type": "stream",
     "text": [
      "dict_keys(['__header__', '__version__', '__globals__', 'ans', 'o', 'x'])\n",
      "(array(['201705081338.32BEA9DD'], dtype='<U21'), array([], dtype='<U1'), array([[621892]], dtype=int32), array([[200]], dtype=uint8), array([[0],\n",
      "       [0],\n",
      "       [0],\n",
      "       ...,\n",
      "       [0],\n",
      "       [0],\n",
      "       [0]], dtype=uint8), array([[ 0],\n",
      "       [ 0],\n",
      "       [ 0],\n",
      "       ...,\n",
      "       [92],\n",
      "       [92],\n",
      "       [92]], dtype=uint8), array([[-18. , -19.2, -12. , ...,  -6. ,  -8.4,  -1.2],\n",
      "       [ -3.6,  -0. ,   1.8, ...,   5.4,   7.2,  -1.2],\n",
      "       [ -6.6,  -8.4,  -1.2, ...,   3. ,   3. ,  -1.8],\n",
      "       ...,\n",
      "       [ -9. ,  -8.4,   2.4, ...,   5.4,   4.8,  -0. ],\n",
      "       [ -7.2, -11.4,   3.6, ...,   4.2,   6.6,  -0. ],\n",
      "       [ -2.4,  -9. ,   5.4, ...,   3.6,   6. ,  -0. ]]), array([[array(['Fp1'], dtype='<U3')],\n",
      "       [array(['Fp2'], dtype='<U3')],\n",
      "       [array(['F3'], dtype='<U2')],\n",
      "       [array(['F4'], dtype='<U2')],\n",
      "       [array(['C3'], dtype='<U2')],\n",
      "       [array(['C4'], dtype='<U2')],\n",
      "       [array(['P3'], dtype='<U2')],\n",
      "       [array(['P4'], dtype='<U2')],\n",
      "       [array(['O1'], dtype='<U2')],\n",
      "       [array(['O2'], dtype='<U2')],\n",
      "       [array(['A1'], dtype='<U2')],\n",
      "       [array(['A2'], dtype='<U2')],\n",
      "       [array(['F7'], dtype='<U2')],\n",
      "       [array(['F8'], dtype='<U2')],\n",
      "       [array(['T3'], dtype='<U2')],\n",
      "       [array(['T4'], dtype='<U2')],\n",
      "       [array(['T5'], dtype='<U2')],\n",
      "       [array(['T6'], dtype='<U2')],\n",
      "       [array(['Fz'], dtype='<U2')],\n",
      "       [array(['Cz'], dtype='<U2')],\n",
      "       [array(['Pz'], dtype='<U2')]], dtype=object), array([[1]], dtype=uint8))\n"
     ]
    }
   ],
   "execution_count": 54
  },
  {
   "metadata": {
    "ExecuteTime": {
     "end_time": "2024-11-08T22:26:17.506334Z",
     "start_time": "2024-11-08T22:26:16.644414Z"
    }
   },
   "cell_type": "code",
   "source": [
    "mat_data = mat_contents['o']\n",
    "sfreq = 200\n",
    "ch_names =  [f'EEG {i+1}' for i in range(mat_data.shape[0])]\n",
    "ch_types = ['eeg'] * mat_data.shape[0]\n",
    "info = mne.create_info(ch_names=ch_names, sfreq=sfreq, ch_types=ch_types)\n",
    "raw = mne.io.read_raw_fieldtrip(filename, info, 'o')"
   ],
   "id": "77a770c5bf5f88e8",
   "outputs": [
    {
     "ename": "ValueError",
     "evalue": "No Source for sfreq found",
     "output_type": "error",
     "traceback": [
      "\u001B[0;31m---------------------------------------------------------------------------\u001B[0m",
      "\u001B[0;31mKeyError\u001B[0m                                  Traceback (most recent call last)",
      "File \u001B[0;32m~/miniconda3/envs/mne/lib/python3.12/site-packages/mne/io/fieldtrip/utils.py:189\u001B[0m, in \u001B[0;36m_set_sfreq\u001B[0;34m(ft_struct)\u001B[0m\n\u001B[1;32m    188\u001B[0m \u001B[38;5;28;01mtry\u001B[39;00m:\n\u001B[0;32m--> 189\u001B[0m     sfreq \u001B[38;5;241m=\u001B[39m \u001B[43mft_struct\u001B[49m\u001B[43m[\u001B[49m\u001B[38;5;124;43m\"\u001B[39;49m\u001B[38;5;124;43mfsample\u001B[39;49m\u001B[38;5;124;43m\"\u001B[39;49m\u001B[43m]\u001B[49m\n\u001B[1;32m    190\u001B[0m \u001B[38;5;28;01mexcept\u001B[39;00m \u001B[38;5;167;01mKeyError\u001B[39;00m:\n",
      "\u001B[0;31mKeyError\u001B[0m: 'fsample'",
      "\nDuring handling of the above exception, another exception occurred:\n",
      "\u001B[0;31mKeyError\u001B[0m                                  Traceback (most recent call last)",
      "File \u001B[0;32m~/miniconda3/envs/mne/lib/python3.12/site-packages/mne/io/fieldtrip/utils.py:192\u001B[0m, in \u001B[0;36m_set_sfreq\u001B[0;34m(ft_struct)\u001B[0m\n\u001B[1;32m    191\u001B[0m \u001B[38;5;28;01mtry\u001B[39;00m:\n\u001B[0;32m--> 192\u001B[0m     time \u001B[38;5;241m=\u001B[39m \u001B[43mft_struct\u001B[49m\u001B[43m[\u001B[49m\u001B[38;5;124;43m\"\u001B[39;49m\u001B[38;5;124;43mtime\u001B[39;49m\u001B[38;5;124;43m\"\u001B[39;49m\u001B[43m]\u001B[49m\n\u001B[1;32m    193\u001B[0m \u001B[38;5;28;01mexcept\u001B[39;00m \u001B[38;5;167;01mKeyError\u001B[39;00m:\n",
      "\u001B[0;31mKeyError\u001B[0m: 'time'",
      "\nDuring handling of the above exception, another exception occurred:\n",
      "\u001B[0;31mValueError\u001B[0m                                Traceback (most recent call last)",
      "Cell \u001B[0;32mIn[62], line 6\u001B[0m\n\u001B[1;32m      4\u001B[0m ch_types \u001B[38;5;241m=\u001B[39m [\u001B[38;5;124m'\u001B[39m\u001B[38;5;124meeg\u001B[39m\u001B[38;5;124m'\u001B[39m] \u001B[38;5;241m*\u001B[39m mat_data\u001B[38;5;241m.\u001B[39mshape[\u001B[38;5;241m0\u001B[39m]\n\u001B[1;32m      5\u001B[0m info \u001B[38;5;241m=\u001B[39m mne\u001B[38;5;241m.\u001B[39mcreate_info(ch_names\u001B[38;5;241m=\u001B[39mch_names, sfreq\u001B[38;5;241m=\u001B[39msfreq, ch_types\u001B[38;5;241m=\u001B[39mch_types)\n\u001B[0;32m----> 6\u001B[0m raw \u001B[38;5;241m=\u001B[39m \u001B[43mmne\u001B[49m\u001B[38;5;241;43m.\u001B[39;49m\u001B[43mio\u001B[49m\u001B[38;5;241;43m.\u001B[39;49m\u001B[43mread_raw_fieldtrip\u001B[49m\u001B[43m(\u001B[49m\u001B[43mfilename\u001B[49m\u001B[43m,\u001B[49m\u001B[43m \u001B[49m\u001B[43minfo\u001B[49m\u001B[43m,\u001B[49m\u001B[43m \u001B[49m\u001B[38;5;124;43m'\u001B[39;49m\u001B[38;5;124;43mo\u001B[39;49m\u001B[38;5;124;43m'\u001B[39;49m\u001B[43m)\u001B[49m\n",
      "File \u001B[0;32m~/miniconda3/envs/mne/lib/python3.12/site-packages/mne/io/fieldtrip/fieldtrip.py:65\u001B[0m, in \u001B[0;36mread_raw_fieldtrip\u001B[0;34m(fname, info, data_name)\u001B[0m\n\u001B[1;32m     61\u001B[0m ft_struct \u001B[38;5;241m=\u001B[39m ft_struct[data_name]\n\u001B[1;32m     63\u001B[0m _validate_ft_struct(ft_struct)\n\u001B[0;32m---> 65\u001B[0m info \u001B[38;5;241m=\u001B[39m \u001B[43m_create_info\u001B[49m\u001B[43m(\u001B[49m\u001B[43mft_struct\u001B[49m\u001B[43m,\u001B[49m\u001B[43m \u001B[49m\u001B[43minfo\u001B[49m\u001B[43m)\u001B[49m  \u001B[38;5;66;03m# create info structure\u001B[39;00m\n\u001B[1;32m     66\u001B[0m data \u001B[38;5;241m=\u001B[39m np\u001B[38;5;241m.\u001B[39marray(ft_struct[\u001B[38;5;124m\"\u001B[39m\u001B[38;5;124mtrial\u001B[39m\u001B[38;5;124m\"\u001B[39m])  \u001B[38;5;66;03m# create the main data array\u001B[39;00m\n\u001B[1;32m     68\u001B[0m \u001B[38;5;28;01mif\u001B[39;00m data\u001B[38;5;241m.\u001B[39mndim \u001B[38;5;241m>\u001B[39m \u001B[38;5;241m2\u001B[39m:\n",
      "File \u001B[0;32m~/miniconda3/envs/mne/lib/python3.12/site-packages/mne/io/fieldtrip/utils.py:47\u001B[0m, in \u001B[0;36m_create_info\u001B[0;34m(ft_struct, raw_info)\u001B[0m\n\u001B[1;32m     44\u001B[0m \u001B[38;5;28;01mif\u001B[39;00m raw_info \u001B[38;5;129;01mis\u001B[39;00m \u001B[38;5;28;01mNone\u001B[39;00m:\n\u001B[1;32m     45\u001B[0m     warn(NOINFO_WARNING)\n\u001B[0;32m---> 47\u001B[0m sfreq \u001B[38;5;241m=\u001B[39m \u001B[43m_set_sfreq\u001B[49m\u001B[43m(\u001B[49m\u001B[43mft_struct\u001B[49m\u001B[43m)\u001B[49m\n\u001B[1;32m     48\u001B[0m ch_names \u001B[38;5;241m=\u001B[39m ft_struct[\u001B[38;5;124m\"\u001B[39m\u001B[38;5;124mlabel\u001B[39m\u001B[38;5;124m\"\u001B[39m]\n\u001B[1;32m     49\u001B[0m \u001B[38;5;28;01mif\u001B[39;00m raw_info:\n",
      "File \u001B[0;32m~/miniconda3/envs/mne/lib/python3.12/site-packages/mne/io/fieldtrip/utils.py:194\u001B[0m, in \u001B[0;36m_set_sfreq\u001B[0;34m(ft_struct)\u001B[0m\n\u001B[1;32m    192\u001B[0m     time \u001B[38;5;241m=\u001B[39m ft_struct[\u001B[38;5;124m\"\u001B[39m\u001B[38;5;124mtime\u001B[39m\u001B[38;5;124m\"\u001B[39m]\n\u001B[1;32m    193\u001B[0m \u001B[38;5;28;01mexcept\u001B[39;00m \u001B[38;5;167;01mKeyError\u001B[39;00m:\n\u001B[0;32m--> 194\u001B[0m     \u001B[38;5;28;01mraise\u001B[39;00m \u001B[38;5;167;01mValueError\u001B[39;00m(\u001B[38;5;124m\"\u001B[39m\u001B[38;5;124mNo Source for sfreq found\u001B[39m\u001B[38;5;124m\"\u001B[39m)\n\u001B[1;32m    195\u001B[0m \u001B[38;5;28;01melse\u001B[39;00m:\n\u001B[1;32m    196\u001B[0m     t1, t2 \u001B[38;5;241m=\u001B[39m \u001B[38;5;28mfloat\u001B[39m(time[\u001B[38;5;241m0\u001B[39m]), \u001B[38;5;28mfloat\u001B[39m(time[\u001B[38;5;241m1\u001B[39m])\n",
      "\u001B[0;31mValueError\u001B[0m: No Source for sfreq found"
     ]
    }
   ],
   "execution_count": 62
  },
  {
   "metadata": {
    "ExecuteTime": {
     "end_time": "2024-11-08T22:15:09.069428Z",
     "start_time": "2024-11-08T22:15:09.064076Z"
    }
   },
   "cell_type": "code",
   "source": "print(raw.)",
   "id": "5a9224c6ebbab381",
   "outputs": [
    {
     "name": "stdout",
     "output_type": "stream",
     "text": [
      "[0.]\n"
     ]
    }
   ],
   "execution_count": 49
  }
 ],
 "metadata": {
  "kernelspec": {
   "display_name": "Python 3",
   "language": "python",
   "name": "python3"
  },
  "language_info": {
   "codemirror_mode": {
    "name": "ipython",
    "version": 2
   },
   "file_extension": ".py",
   "mimetype": "text/x-python",
   "name": "python",
   "nbconvert_exporter": "python",
   "pygments_lexer": "ipython2",
   "version": "2.7.6"
  }
 },
 "nbformat": 4,
 "nbformat_minor": 5
}
